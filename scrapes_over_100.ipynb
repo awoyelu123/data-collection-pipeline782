{
 "cells": [
  {
   "cell_type": "code",
   "execution_count": 1,
   "metadata": {},
   "outputs": [
    {
     "name": "stderr",
     "output_type": "stream",
     "text": [
      "C:\\Users\\awoye\\AppData\\Local\\Temp\\ipykernel_15932\\2416732712.py:8: DeprecationWarning: executable_path has been deprecated, please pass in a Service object\n",
      "  driver = webdriver.Chrome(\"C:\\\\Users\\\\awoye\\\\Downloads\\\\chromedriver_win32\\\\chromedriver.exe\")\n"
     ]
    },
    {
     "ename": "WebDriverException",
     "evalue": "Message: chrome not reachable\n  (Session info: chrome=105.0.5195.127)\nStacktrace:\nBacktrace:\n\tOrdinal0 [0x008C78B3+2193587]\n\tOrdinal0 [0x00860681+1771137]\n\tOrdinal0 [0x00774070+802928]\n\tOrdinal0 [0x00769AB2+760498]\n\tOrdinal0 [0x0075CEAF+708271]\n\tOrdinal0 [0x00761142+725314]\n\tOrdinal0 [0x007655C9+742857]\n\tOrdinal0 [0x00775500+808192]\n\tOrdinal0 [0x007CD2C2+1168066]\n\tOrdinal0 [0x007BD5C6+1103302]\n\tOrdinal0 [0x007977E0+948192]\n\tOrdinal0 [0x007986E6+952038]\n\tGetHandleVerifier [0x00B70CB2+2738370]\n\tGetHandleVerifier [0x00B621B8+2678216]\n\tGetHandleVerifier [0x009517AA+512954]\n\tGetHandleVerifier [0x00950856+509030]\n\tOrdinal0 [0x0086743B+1799227]\n\tOrdinal0 [0x0086BB68+1817448]\n\tOrdinal0 [0x0086BC55+1817685]\n\tOrdinal0 [0x00875230+1856048]\n\tBaseThreadInitThunk [0x76516739+25]\n\tRtlGetFullPathName_UEx [0x77BD8FD2+1218]\n\tRtlGetFullPathName_UEx [0x77BD8F9D+1165]\n",
     "output_type": "error",
     "traceback": [
      "\u001b[1;31m---------------------------------------------------------------------------\u001b[0m",
      "\u001b[1;31mWebDriverException\u001b[0m                        Traceback (most recent call last)",
      "\u001b[1;32mc:\\Users\\awoye\\OneDrive\\Documents\\GitHub\\data-collection-pipeline782\\scrapes_over_100.ipynb Cell 1\u001b[0m in \u001b[0;36m<cell line: 11>\u001b[1;34m()\u001b[0m\n\u001b[0;32m      <a href='vscode-notebook-cell:/c%3A/Users/awoye/OneDrive/Documents/GitHub/data-collection-pipeline782/scrapes_over_100.ipynb#W0sZmlsZQ%3D%3D?line=8'>9</a>\u001b[0m driver\u001b[39m.\u001b[39mget(\u001b[39m\"\u001b[39m\u001b[39mhttps://www.waterstones.com/category/crime-thrillers-mystery/page/1\u001b[39m\u001b[39m\"\u001b[39m)\n\u001b[0;32m     <a href='vscode-notebook-cell:/c%3A/Users/awoye/OneDrive/Documents/GitHub/data-collection-pipeline782/scrapes_over_100.ipynb#W0sZmlsZQ%3D%3D?line=9'>10</a>\u001b[0m time\u001b[39m.\u001b[39msleep(\u001b[39m8\u001b[39m)\n\u001b[1;32m---> <a href='vscode-notebook-cell:/c%3A/Users/awoye/OneDrive/Documents/GitHub/data-collection-pipeline782/scrapes_over_100.ipynb#W0sZmlsZQ%3D%3D?line=10'>11</a>\u001b[0m button \u001b[39m=\u001b[39m driver\u001b[39m.\u001b[39;49mfind_element(by \u001b[39m=\u001b[39;49m By\u001b[39m.\u001b[39;49mXPATH, value \u001b[39m=\u001b[39;49m \u001b[39m'\u001b[39;49m\u001b[39m//*[@id=\u001b[39;49m\u001b[39m\"\u001b[39;49m\u001b[39monetrust-accept-btn-handler\u001b[39;49m\u001b[39m\"\u001b[39;49m\u001b[39m]\u001b[39;49m\u001b[39m'\u001b[39;49m)\n\u001b[0;32m     <a href='vscode-notebook-cell:/c%3A/Users/awoye/OneDrive/Documents/GitHub/data-collection-pipeline782/scrapes_over_100.ipynb#W0sZmlsZQ%3D%3D?line=11'>12</a>\u001b[0m button\u001b[39m.\u001b[39mclick()\n\u001b[0;32m     <a href='vscode-notebook-cell:/c%3A/Users/awoye/OneDrive/Documents/GitHub/data-collection-pipeline782/scrapes_over_100.ipynb#W0sZmlsZQ%3D%3D?line=13'>14</a>\u001b[0m driver\u001b[39m.\u001b[39mexecute_script(\u001b[39m\"\u001b[39m\u001b[39mwindow.scrollTo(0, document.body.scrollHeight);\u001b[39m\u001b[39m\"\u001b[39m)\n",
      "File \u001b[1;32mc:\\Users\\awoye\\AppData\\Local\\Programs\\Python\\Python39\\lib\\site-packages\\selenium\\webdriver\\remote\\webdriver.py:855\u001b[0m, in \u001b[0;36mWebDriver.find_element\u001b[1;34m(self, by, value)\u001b[0m\n\u001b[0;32m    852\u001b[0m     by \u001b[39m=\u001b[39m By\u001b[39m.\u001b[39mCSS_SELECTOR\n\u001b[0;32m    853\u001b[0m     value \u001b[39m=\u001b[39m \u001b[39m'\u001b[39m\u001b[39m[name=\u001b[39m\u001b[39m\"\u001b[39m\u001b[39m%s\u001b[39;00m\u001b[39m\"\u001b[39m\u001b[39m]\u001b[39m\u001b[39m'\u001b[39m \u001b[39m%\u001b[39m value\n\u001b[1;32m--> 855\u001b[0m \u001b[39mreturn\u001b[39;00m \u001b[39mself\u001b[39;49m\u001b[39m.\u001b[39;49mexecute(Command\u001b[39m.\u001b[39;49mFIND_ELEMENT, {\n\u001b[0;32m    856\u001b[0m     \u001b[39m'\u001b[39;49m\u001b[39musing\u001b[39;49m\u001b[39m'\u001b[39;49m: by,\n\u001b[0;32m    857\u001b[0m     \u001b[39m'\u001b[39;49m\u001b[39mvalue\u001b[39;49m\u001b[39m'\u001b[39;49m: value})[\u001b[39m'\u001b[39m\u001b[39mvalue\u001b[39m\u001b[39m'\u001b[39m]\n",
      "File \u001b[1;32mc:\\Users\\awoye\\AppData\\Local\\Programs\\Python\\Python39\\lib\\site-packages\\selenium\\webdriver\\remote\\webdriver.py:428\u001b[0m, in \u001b[0;36mWebDriver.execute\u001b[1;34m(self, driver_command, params)\u001b[0m\n\u001b[0;32m    426\u001b[0m response \u001b[39m=\u001b[39m \u001b[39mself\u001b[39m\u001b[39m.\u001b[39mcommand_executor\u001b[39m.\u001b[39mexecute(driver_command, params)\n\u001b[0;32m    427\u001b[0m \u001b[39mif\u001b[39;00m response:\n\u001b[1;32m--> 428\u001b[0m     \u001b[39mself\u001b[39;49m\u001b[39m.\u001b[39;49merror_handler\u001b[39m.\u001b[39;49mcheck_response(response)\n\u001b[0;32m    429\u001b[0m     response[\u001b[39m'\u001b[39m\u001b[39mvalue\u001b[39m\u001b[39m'\u001b[39m] \u001b[39m=\u001b[39m \u001b[39mself\u001b[39m\u001b[39m.\u001b[39m_unwrap_value(\n\u001b[0;32m    430\u001b[0m         response\u001b[39m.\u001b[39mget(\u001b[39m'\u001b[39m\u001b[39mvalue\u001b[39m\u001b[39m'\u001b[39m, \u001b[39mNone\u001b[39;00m))\n\u001b[0;32m    431\u001b[0m     \u001b[39mreturn\u001b[39;00m response\n",
      "File \u001b[1;32mc:\\Users\\awoye\\AppData\\Local\\Programs\\Python\\Python39\\lib\\site-packages\\selenium\\webdriver\\remote\\errorhandler.py:243\u001b[0m, in \u001b[0;36mErrorHandler.check_response\u001b[1;34m(self, response)\u001b[0m\n\u001b[0;32m    241\u001b[0m         alert_text \u001b[39m=\u001b[39m value[\u001b[39m'\u001b[39m\u001b[39malert\u001b[39m\u001b[39m'\u001b[39m]\u001b[39m.\u001b[39mget(\u001b[39m'\u001b[39m\u001b[39mtext\u001b[39m\u001b[39m'\u001b[39m)\n\u001b[0;32m    242\u001b[0m     \u001b[39mraise\u001b[39;00m exception_class(message, screen, stacktrace, alert_text)  \u001b[39m# type: ignore[call-arg]  # mypy is not smart enough here\u001b[39;00m\n\u001b[1;32m--> 243\u001b[0m \u001b[39mraise\u001b[39;00m exception_class(message, screen, stacktrace)\n",
      "\u001b[1;31mWebDriverException\u001b[0m: Message: chrome not reachable\n  (Session info: chrome=105.0.5195.127)\nStacktrace:\nBacktrace:\n\tOrdinal0 [0x008C78B3+2193587]\n\tOrdinal0 [0x00860681+1771137]\n\tOrdinal0 [0x00774070+802928]\n\tOrdinal0 [0x00769AB2+760498]\n\tOrdinal0 [0x0075CEAF+708271]\n\tOrdinal0 [0x00761142+725314]\n\tOrdinal0 [0x007655C9+742857]\n\tOrdinal0 [0x00775500+808192]\n\tOrdinal0 [0x007CD2C2+1168066]\n\tOrdinal0 [0x007BD5C6+1103302]\n\tOrdinal0 [0x007977E0+948192]\n\tOrdinal0 [0x007986E6+952038]\n\tGetHandleVerifier [0x00B70CB2+2738370]\n\tGetHandleVerifier [0x00B621B8+2678216]\n\tGetHandleVerifier [0x009517AA+512954]\n\tGetHandleVerifier [0x00950856+509030]\n\tOrdinal0 [0x0086743B+1799227]\n\tOrdinal0 [0x0086BB68+1817448]\n\tOrdinal0 [0x0086BC55+1817685]\n\tOrdinal0 [0x00875230+1856048]\n\tBaseThreadInitThunk [0x76516739+25]\n\tRtlGetFullPathName_UEx [0x77BD8FD2+1218]\n\tRtlGetFullPathName_UEx [0x77BD8F9D+1165]\n"
     ]
    }
   ],
   "source": [
    "from selenium import webdriver\n",
    "from selenium.webdriver.common.by import By\n",
    "import time\n",
    "\n",
    "link_list = []\n",
    "product_list = []\n",
    "\n",
    "driver = webdriver.Chrome(\"C:\\\\Users\\\\awoye\\\\Downloads\\\\chromedriver_win32\\\\chromedriver.exe\")\n",
    "driver.get(\"https://www.waterstones.com/category/crime-thrillers-mystery/page/1\")\n",
    "time.sleep(8)\n",
    "button = driver.find_element(by = By.XPATH, value = '//*[@id=\"onetrust-accept-btn-handler\"]')\n",
    "button.click()\n",
    "\n",
    "driver.execute_script(\"window.scrollTo(0, document.body.scrollHeight);\")\n",
    "time.sleep(5)\n",
    "driver.execute_script(\"window.scrollTo(0, document.body.scrollHeight);\")\n",
    "time.sleep(5)\n",
    "driver.execute_script(\"window.scrollTo(0, document.body.scrollHeight);\")\n",
    "driver.find_element(by = By.XPATH, value = '/html/body/div[1]/div[1]/div[3]/div[3]/button').click()\n",
    "time.sleep(3)\n",
    "driver.find_element(by = By.XPATH, value = '/html/body/div[1]/div[1]/div[3]/div[3]/button').click()\n",
    "time.sleep(3)\n",
    "\n",
    "\n",
    "container = driver.find_element(by = By.XPATH, value = '/html/body/div[1]/div[1]/div[3]/div[2]')\n",
    "link_container = container.find_elements(by = By.CLASS_NAME, value = 'title-wrap')\n",
    "for book in link_container:\n",
    "    book_link = book.find_element(by = By.TAG_NAME, value = 'a').get_attribute('href')\n",
    "    link_list.append(book_link)\n",
    "print(len(link_list))\n",
    "\n",
    "\n",
    "\n",
    "for product in link_list:\n",
    "    driver.get(product)\n",
    "    try:\n",
    "        pages = int(driver.find_element(by = By.XPATH, value = '/html/body/div[1]/div[1]/div[2]/section[1]/div[2]/div[2]/div/div/div/div[2]/span[2]/span').text)\n",
    "    except Exception:\n",
    "        pages = 'NULL'\n",
    "    try:\n",
    "        price = driver.find_element(by = By.XPATH, value = '/html/body/div[1]/div[1]/div[2]/section[1]/div[2]/div[2]/div/div/div/div[1]/div/b[2]').text\n",
    "    except Exception:\n",
    "        try: \n",
    "            price = driver.find_element(by = By.XPATH, value = '/html/body/div[1]/div[1]/div[2]/section[1]/div[2]/div[2]/div/div/div/div[1]/div/b').text\n",
    "        except Exception:\n",
    "                    price = 'NULL'\n",
    "    finally:\n",
    "        product_details ={\n",
    "        'isbn': driver.find_element(by = By.XPATH, value = '/html/body/div[1]/div[1]/div[2]/section[2]/div[2]/div[1]/div[1]/p/i[2]/span').text,\n",
    "        'book_title':driver.find_element(by = By.CLASS_NAME, value = 'book-title').text,\n",
    "        'author':driver.find_element(by = By.XPATH, value = '/html/body/div[1]/div[1]/div[2]/section[1]/div[2]/div[1]/span/a/b/span').text,\n",
    "        'price': price,\n",
    "        'pages': pages,\n",
    "        'product_img_link':driver.find_element(by = By.XPATH, value = '//*[@id=\"scope_book_image\"]').get_attribute('src')\n",
    "        }\n",
    "        product_list.append(product_details)\n",
    "print(product_list)"
   ]
  },
  {
   "cell_type": "code",
   "execution_count": 65,
   "metadata": {},
   "outputs": [
    {
     "name": "stderr",
     "output_type": "stream",
     "text": [
      "C:\\Users\\awoye\\AppData\\Local\\Temp\\ipykernel_18024\\56591966.py:8: DeprecationWarning: executable_path has been deprecated, please pass in a Service object\n",
      "  driver = webdriver.Chrome(\"C:\\\\Users\\\\awoye\\\\Downloads\\\\chromedriver_win32\\\\chromedriver.exe\")\n"
     ]
    },
    {
     "name": "stdout",
     "output_type": "stream",
     "text": [
      "120\n"
     ]
    }
   ],
   "source": [
    "from selenium import webdriver\n",
    "from selenium.webdriver.common.by import By\n",
    "import time\n",
    "\n",
    "link_list = []\n",
    "product_list = []\n",
    "\n",
    "driver = webdriver.Chrome(\"C:\\\\Users\\\\awoye\\\\Downloads\\\\chromedriver_win32\\\\chromedriver.exe\")\n",
    "driver.get(\"https://www.waterstones.com/category/crime-thrillers-mystery/page/1\")\n",
    "time.sleep(8)\n",
    "button = driver.find_element(by = By.XPATH, value = '//*[@id=\"onetrust-accept-btn-handler\"]')\n",
    "button.click()\n",
    "driver.execute_script(\"window.scrollTo(0, document.body.scrollHeight);\")\n",
    "time.sleep(5)\n",
    "driver.execute_script(\"window.scrollTo(0, document.body.scrollHeight);\")\n",
    "time.sleep(5)\n",
    "driver.find_element(by = By.XPATH, value = '/html/body/div[1]/div[1]/div[3]/div[3]/button').click()\n",
    "time.sleep(3)\n",
    "driver.find_element(by = By.XPATH, value = '/html/body/div[1]/div[1]/div[3]/div[3]/button').click()\n",
    "time.sleep(3)\n",
    "container = driver.find_element(by = By.XPATH, value = '/html/body/div[1]/div[1]/div[3]/div[2]')\n",
    "link_container = container.find_elements(by = By.CLASS_NAME, value = 'title-wrap')\n",
    "for book in link_container:\n",
    "    book_link = book.find_element(by = By.TAG_NAME, value = 'a').get_attribute('href')\n",
    "    link_list.append(book_link)\n",
    "print(len(link_list))"
   ]
  },
  {
   "cell_type": "code",
   "execution_count": 9,
   "metadata": {},
   "outputs": [
    {
     "ename": "NameError",
     "evalue": "name 'html' is not defined",
     "output_type": "error",
     "traceback": [
      "\u001b[1;31m---------------------------------------------------------------------------\u001b[0m",
      "\u001b[1;31mNameError\u001b[0m                                 Traceback (most recent call last)",
      "\u001b[1;32mc:\\Users\\awoye\\OneDrive\\Documents\\GitHub\\data-collection-pipeline782\\try_except.ipynb Cell 3\u001b[0m in \u001b[0;36m<cell line: 1>\u001b[1;34m()\u001b[0m\n\u001b[1;32m----> <a href='vscode-notebook-cell:/c%3A/Users/awoye/OneDrive/Documents/GitHub/data-collection-pipeline782/try_except.ipynb#W2sZmlsZQ%3D%3D?line=0'>1</a>\u001b[0m html\u001b[39m/\u001b[39mbody\u001b[39m/\u001b[39mdiv[\u001b[39m1\u001b[39m]\u001b[39m/\u001b[39mdiv[\u001b[39m1\u001b[39m]\u001b[39m/\u001b[39mdiv[\u001b[39m2\u001b[39m]\u001b[39m/\u001b[39msection[\u001b[39m1\u001b[39m]\u001b[39m/\u001b[39mdiv[\u001b[39m2\u001b[39m]\u001b[39m/\u001b[39mdiv[\u001b[39m2\u001b[39m]\u001b[39m/\u001b[39mdiv\u001b[39m/\u001b[39mdiv\u001b[39m/\u001b[39mdiv\u001b[39m/\u001b[39mdiv[\u001b[39m1\u001b[39m]\u001b[39m/\u001b[39mdiv\u001b[39m/\u001b[39mb()\n",
      "\u001b[1;31mNameError\u001b[0m: name 'html' is not defined"
     ]
    }
   ],
   "source": [
    "\n",
    "/html/body/div[1]/div[1]/div[2]/section[1]/div[2]/div[2]/div/div/div/div[1]/div/b"
   ]
  },
  {
   "cell_type": "code",
   "execution_count": 14,
   "metadata": {},
   "outputs": [
    {
     "ename": "NameError",
     "evalue": "name 'html' is not defined",
     "output_type": "error",
     "traceback": [
      "\u001b[1;31m---------------------------------------------------------------------------\u001b[0m",
      "\u001b[1;31mNameError\u001b[0m                                 Traceback (most recent call last)",
      "\u001b[1;32mc:\\Users\\awoye\\OneDrive\\Documents\\GitHub\\data-collection-pipeline782\\try_except.ipynb Cell 4\u001b[0m in \u001b[0;36m<cell line: 1>\u001b[1;34m()\u001b[0m\n\u001b[1;32m----> <a href='vscode-notebook-cell:/c%3A/Users/awoye/OneDrive/Documents/GitHub/data-collection-pipeline782/try_except.ipynb#W3sZmlsZQ%3D%3D?line=0'>1</a>\u001b[0m html\u001b[39m/\u001b[39mbody\u001b[39m/\u001b[39mdiv[\u001b[39m1\u001b[39m]\u001b[39m/\u001b[39mdiv[\u001b[39m1\u001b[39m]\u001b[39m/\u001b[39mdiv[\u001b[39m2\u001b[39m]\u001b[39m/\u001b[39msection[\u001b[39m1\u001b[39m]\u001b[39m/\u001b[39mdiv[\u001b[39m2\u001b[39m]\u001b[39m/\u001b[39mdiv[\u001b[39m2\u001b[39m]\u001b[39m/\u001b[39mdiv\u001b[39m/\u001b[39mdiv\u001b[39m/\u001b[39mdiv\u001b[39m/\u001b[39mdiv[\u001b[39m1\u001b[39m]\u001b[39m/\u001b[39mdiv\u001b[39m/\u001b[39mb()\n\u001b[0;32m      <a href='vscode-notebook-cell:/c%3A/Users/awoye/OneDrive/Documents/GitHub/data-collection-pipeline782/try_except.ipynb#W3sZmlsZQ%3D%3D?line=1'>2</a>\u001b[0m html\u001b[39m/\u001b[39mbody\u001b[39m/\u001b[39mdiv[\u001b[39m1\u001b[39m]\u001b[39m/\u001b[39mdiv[\u001b[39m1\u001b[39m]\u001b[39m/\u001b[39mdiv[\u001b[39m2\u001b[39m]\u001b[39m/\u001b[39msection[\u001b[39m1\u001b[39m]\u001b[39m/\u001b[39mdiv[\u001b[39m2\u001b[39m]\u001b[39m/\u001b[39mdiv[\u001b[39m2\u001b[39m]\u001b[39m/\u001b[39mdiv\u001b[39m/\u001b[39mdiv\u001b[39m/\u001b[39mdiv\u001b[39m/\u001b[39mdiv[\u001b[39m1\u001b[39m]\u001b[39m/\u001b[39mdiv\u001b[39m/\u001b[39mb[\u001b[39m2\u001b[39m]()\n",
      "\u001b[1;31mNameError\u001b[0m: name 'html' is not defined"
     ]
    }
   ],
   "source": [
    "/html/body/div[1]/div[1]/div[2]/section[1]/div[2]/div[2]/div/div/div/div[1]/div/b\n",
    "/html/body/div[1]/div[1]/div[2]/section[1]/div[2]/div[2]/div/div/div/div[1]/div/b[2]\n",
    "/html/body/div[1]/div[1]/div[2]/section[1]/div[2]/div[2]/div/div/div/div[1]/div/b\n"
   ]
  },
  {
   "cell_type": "code",
   "execution_count": null,
   "metadata": {},
   "outputs": [],
   "source": [
    "            product_details ={\n",
    "            'isbn': driver.find_element(by = By.XPATH, value = '/html/body/div[1]/div[1]/div[2]/section[2]/div[2]/div[1]/div[1]/p/i[2]/span').text,\n",
    "            'book_title':driver.find_element(by = By.CLASS_NAME, value = 'book-title').text,\n",
    "            'author':driver.find_element(by = By.XPATH, value = '/html/body/div[1]/div[1]/div[2]/section[1]/div[2]/div[1]/span/a/b/span').text,\n",
    "            'price': 'NULL',\n",
    "            'pages': int(driver.find_element(by = By.XPATH, value = '/html/body/div[1]/div[1]/div[2]/section[1]/div[2]/div[2]/div/div/div/div[2]/span[2]/span').text),\n",
    "            'product_img_link':driver.find_element(by = By.XPATH, value = '//*[@id=\"scope_book_image\"]').get_attribute('src')\n",
    "            }"
   ]
  }
 ],
 "metadata": {
  "kernelspec": {
   "display_name": "Python 3.9.13 64-bit",
   "language": "python",
   "name": "python3"
  },
  "language_info": {
   "codemirror_mode": {
    "name": "ipython",
    "version": 3
   },
   "file_extension": ".py",
   "mimetype": "text/x-python",
   "name": "python",
   "nbconvert_exporter": "python",
   "pygments_lexer": "ipython3",
   "version": "3.9.13"
  },
  "orig_nbformat": 4,
  "vscode": {
   "interpreter": {
    "hash": "4496ee84ec3f836f2c244778f5eace6014f8a90bc256bc6e4ad394a54dce8339"
   }
  }
 },
 "nbformat": 4,
 "nbformat_minor": 2
}
