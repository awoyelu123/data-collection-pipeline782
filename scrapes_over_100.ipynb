{
 "cells": [
  {
   "cell_type": "code",
   "execution_count": 73,
   "metadata": {},
   "outputs": [
    {
     "name": "stderr",
     "output_type": "stream",
     "text": [
      "C:\\Users\\awoye\\AppData\\Local\\Temp\\ipykernel_18024\\2298534353.py:8: DeprecationWarning: executable_path has been deprecated, please pass in a Service object\n",
      "  driver = webdriver.Chrome(\"C:\\\\Users\\\\awoye\\\\Downloads\\\\chromedriver_win32\\\\chromedriver.exe\")\n"
     ]
    },
    {
     "name": "stdout",
     "output_type": "stream",
     "text": [
      "120\n",
      "[{'isbn': '2928377088439', 'book_title': 'The Bullet that Missed: Exclusive Edition - The Thursday Murder Club (Hardback)', 'author': 'Richard Osman', 'price': '£15.99', 'pages': 400, 'product_img_link': 'https://cdn.waterstones.com/override/v2/large/2928/3770/2928377088439.jpg'}, {'isbn': '9780008454487', 'book_title': 'A Flicker in the Dark (Paperback)', 'author': 'Stacy Willingham', 'price': '£7.49', 'pages': 384, 'product_img_link': 'https://cdn.waterstones.com/bookjackets/large/9780/0084/9780008454487.jpg'}, {'isbn': '9780241988244', 'book_title': 'The Man Who Died Twice: (The Thursday Murder Club 2) - The Thursday Murder Club (Paperback)', 'author': 'Richard Osman', 'price': '£7.49', 'pages': 448, 'product_img_link': 'https://cdn.waterstones.com/bookjackets/large/9780/2419/9780241988244.jpg'}, {'isbn': '9780751584202', 'book_title': 'The Ink Black Heart: The Number One international bestseller (Strike 6) - Strike (Hardback)', 'author': 'Robert Galbraith', 'price': '£20.00', 'pages': 1024, 'product_img_link': 'https://cdn.waterstones.com/bookjackets/large/9780/7515/9780751584202.jpg'}, {'isbn': '9780241988268', 'book_title': 'The Thursday Murder Club - The Thursday Murder Club (Paperback)', 'author': 'Richard Osman', 'price': '£7.49', 'pages': 400, 'product_img_link': 'https://cdn.waterstones.com/bookjackets/large/9780/2419/9780241988268.jpg'}, {'isbn': '9781529054194', 'book_title': 'The Christie Affair (Paperback)', 'author': 'Nina de Gramont', 'price': '£7.49', 'pages': 368, 'product_img_link': 'https://cdn.waterstones.com/override/v1/large/9781/5290/9781529054194.jpg'}, {'isbn': '9780241512425', 'book_title': 'The Bullet That Missed - The Thursday Murder Club (Hardback)', 'author': 'Richard Osman', 'price': '£15.99', 'pages': 432, 'product_img_link': 'https://cdn.waterstones.com/bookjackets/large/9780/2415/9780241512425.jpg'}, {'isbn': '9781472154668', 'book_title': 'Where the Crawdads Sing (Paperback)', 'author': 'Delia Owens', 'price': '£7.99', 'pages': 384, 'product_img_link': 'https://cdn.waterstones.com/bookjackets/large/9781/4721/9781472154668.jpg'}, {'isbn': '9781529157840', 'book_title': 'A Fatal Crossing (Paperback)', 'author': 'Tom Hindle', 'price': '£7.49', 'pages': 464, 'product_img_link': 'https://cdn.waterstones.com/bookjackets/large/9781/5291/9781529157840.jpg'}, {'isbn': '9781785656477', 'book_title': 'If We Were Villains (Paperback)', 'author': 'M. L. Rio', 'price': '£8.99', 'pages': 400, 'product_img_link': 'https://cdn.waterstones.com/bookjackets/large/9781/7856/9781785656477.jpg'}, {'isbn': '9781408726600', 'book_title': 'Verity (Paperback)', 'author': 'Colleen Hoover', 'price': '£6.99', 'pages': 336, 'product_img_link': 'https://cdn.waterstones.com/bookjackets/large/9781/4087/9781408726600.jpg'}, {'isbn': '9781788165334', 'book_title': 'The Twyford Code (Paperback)', 'author': 'Janice Hallett', 'price': '£6.99', 'pages': 400, 'product_img_link': 'https://cdn.waterstones.com/bookjackets/large/9781/7881/9781788165334.jpg'}, {'isbn': '9781529151756', 'book_title': 'Act of Oblivion (Hardback)', 'author': 'Robert Harris', 'price': '£22.00', 'pages': 480, 'product_img_link': 'https://cdn.waterstones.com/bookjackets/large/9781/5291/9781529151756.jpg'}, {'isbn': '2928377131333', 'book_title': 'Hare House: Exclusive Edition (Paperback)', 'author': 'Sally Hinchcliffe', 'price': '£7.49', 'pages': 320, 'product_img_link': 'https://cdn.waterstones.com/override/v1/large/2928/3771/2928377131333.jpg'}, {'isbn': '9781405942256', 'book_title': 'Apples Never Fall (Paperback)', 'author': 'Liane Moriarty', 'price': '£6.99', 'pages': 512, 'product_img_link': 'https://cdn.waterstones.com/bookjackets/large/9781/4059/9781405942256.jpg'}, {'isbn': '9781914391170', 'book_title': 'The Trees (Paperback)', 'author': 'Percival Everett', 'price': '£9.99', 'pages': 334, 'product_img_link': 'https://cdn.waterstones.com/bookjackets/large/9781/9143/9781914391170.jpg'}, {'isbn': '9781405293181', 'book_title': \"A Good Girl's Guide to Murder - A Good Girl's Guide to Murder Book 1 (Paperback)\", 'author': 'Holly Jackson', 'price': '£7.49', 'pages': 448, 'product_img_link': 'https://cdn.waterstones.com/bookjackets/large/9781/4052/9781405293181.jpg'}, {'isbn': '9781529176759', 'book_title': 'A Slow Fire Burning (Paperback)', 'author': 'Paula Hawkins', 'price': '£6.99', 'pages': 384, 'product_img_link': 'https://cdn.waterstones.com/bookjackets/large/9781/5291/9781529176759.jpg'}, {'isbn': '9780241621905', 'book_title': 'The Secret History: 30th Anniversary Edition (Hardback)', 'author': 'Donna Tartt', 'price': '£20.00', 'pages': 640, 'product_img_link': 'https://cdn.waterstones.com/override/v1/large/9780/2416/9780241621905.jpg'}, {'isbn': '9780241994535', 'book_title': 'Silverview (Paperback)', 'author': 'John le Carré', 'price': '£6.99', 'pages': 272, 'product_img_link': 'https://cdn.waterstones.com/override/v1/large/9780/2419/9780241994535.jpg'}, {'isbn': '9781529157253', 'book_title': 'Give Unto Others - A Commissario Brunetti Mystery (Paperback)', 'author': 'Donna Leon', 'price': '£8.49', 'pages': 320, 'product_img_link': 'https://cdn.waterstones.com/bookjackets/large/9781/5291/9781529157253.jpg'}, {'isbn': '9781529157468', 'book_title': 'Project Hail Mary (Paperback)', 'author': 'Andy Weir', 'price': '£8.49', 'pages': 496, 'product_img_link': 'https://cdn.waterstones.com/bookjackets/large/9781/5291/9781529157468.jpg'}, {'isbn': '9780008474324', 'book_title': 'Next in Line - William Warwick Novels (Hardback)', 'author': 'Jeffrey Archer', 'price': '£18.99', 'pages': 400, 'product_img_link': 'https://cdn.waterstones.com/bookjackets/large/9780/0084/9780008474324.jpg'}, {'isbn': '9781529110531', 'book_title': 'A Change of Circumstance - Simon Serrailler (Paperback)', 'author': 'Susan Hill', 'price': '£7.49', 'pages': 384, 'product_img_link': 'https://cdn.waterstones.com/bookjackets/large/9781/5291/9781529110531.jpg'}, {'isbn': '9781838854140', 'book_title': 'The Dark Remains (Paperback)', 'author': 'Ian Rankin', 'price': '£7.49', 'pages': 320, 'product_img_link': 'https://cdn.waterstones.com/bookjackets/large/9781/8388/9781838854140.jpg'}, {'isbn': '9781838778750', 'book_title': 'Vanished (Paperback)', 'author': 'Lynda La Plante', 'price': '£7.49', 'pages': 400, 'product_img_link': 'https://cdn.waterstones.com/bookjackets/large/9781/8387/9781838778750.jpg'}, {'isbn': '9781529115376', 'book_title': 'The Jealousy Man (Paperback)', 'author': 'Jo Nesbo', 'price': '£7.49', 'pages': 528, 'product_img_link': 'https://cdn.waterstones.com/bookjackets/large/9781/5291/9781529115376.jpg'}, {'isbn': '9780571363605', 'book_title': 'April in Spain (Paperback)', 'author': 'John Banville', 'price': '£7.49', 'pages': 368, 'product_img_link': 'https://cdn.waterstones.com/bookjackets/large/9780/5713/9780571363605.jpg'}, {'isbn': '9781529047356', 'book_title': 'The Lamplighters (Paperback)', 'author': 'Emma Stonex', 'price': '£7.49', 'pages': 368, 'product_img_link': 'https://cdn.waterstones.com/bookjackets/large/9781/5290/9781529047356.jpg'}, {'isbn': '9781529342413', 'book_title': \"The Judge's List (Paperback)\", 'author': 'John Grisham', 'price': '£7.49', 'pages': 384, 'product_img_link': 'https://cdn.waterstones.com/bookjackets/large/9781/5293/9781529342413.jpg'}, {'isbn': '9781529151756', 'book_title': 'Act of Oblivion (Hardback)', 'author': 'Robert Harris', 'price': '£22.00', 'pages': 480, 'product_img_link': 'https://cdn.waterstones.com/bookjackets/large/9781/5291/9781529151756.jpg'}, {'isbn': '9781405951180', 'book_title': 'The Girls Who Disappeared (Paperback)', 'author': 'Claire Douglas', 'price': '£8.99', 'pages': 400, 'product_img_link': 'https://cdn.waterstones.com/bookjackets/large/9781/4059/9781405951180.jpg'}, {'isbn': '2928377082246', 'book_title': 'No Plan B: Signed Exclusive Edition - Jack Reacher (Hardback)', 'author': 'Lee Child', 'price': '£17.99', 'pages': 520, 'product_img_link': 'https://cdn.waterstones.com/override/v2/large/2928/3770/2928377082246.jpg'}, {'isbn': '9781509889617', 'book_title': 'The Rising Tide - Vera Stanhope (Hardback)', 'author': 'Ann Cleeves', 'price': '£16.99', 'pages': 384, 'product_img_link': 'https://cdn.waterstones.com/bookjackets/large/9781/5098/9781509889617.jpg'}, {'isbn': '2928377082253', 'book_title': 'No Plan B: Exclusive Edition - Jack Reacher (Hardback)', 'author': 'Lee Child', 'price': '£11.00', 'pages': 520, 'product_img_link': 'https://cdn.waterstones.com/override/v2/large/2928/3770/2928377082253.jpg'}, {'isbn': '2928377088187', 'book_title': 'The Bullet that Missed: Signed Edition - The Thursday Murder Club 3 (Hardback)', 'author': 'Richard Osman', 'price': '£20.00', 'pages': 400, 'product_img_link': 'https://cdn.waterstones.com/override/v2/large/2928/3770/2928377088187.jpg'}, {'isbn': '9780552178471', 'book_title': 'This is the Night They Come For You (Paperback)', 'author': 'Robert Goddard', 'price': '£8.49', 'pages': 432, 'product_img_link': 'https://cdn.waterstones.com/bookjackets/large/9780/5521/9780552178471.jpg'}, {'isbn': '9781474612630', 'book_title': 'Murder Before Evensong - Canon Clement Mystery (Hardback)', 'author': 'Reverend Richard Coles', 'price': '£14.99', 'pages': 368, 'product_img_link': 'https://cdn.waterstones.com/bookjackets/large/9781/4746/9781474612630.jpg'}, {'isbn': '9780008332136', 'book_title': 'Take Your Breath Away (Paperback)', 'author': 'Linwood Barclay', 'price': '£7.49', 'pages': 464, 'product_img_link': 'https://cdn.waterstones.com/bookjackets/large/9780/0083/9780008332136.jpg'}, {'isbn': '9780552177528', 'book_title': 'Better Off Dead: (Jack Reacher 26) - Jack Reacher (Paperback)', 'author': 'Lee Child', 'price': '£8.99', 'pages': 448, 'product_img_link': 'https://cdn.waterstones.com/bookjackets/large/9780/5521/9780552177528.jpg'}, {'isbn': '9781788165303', 'book_title': 'The Appeal (Paperback)', 'author': 'Janice Hallett', 'price': '£7.49', 'pages': 464, 'product_img_link': 'https://cdn.waterstones.com/override/v1/large/9781/7881/9781788165303.jpg'}, {'isbn': '9781399716062', 'book_title': 'The Skeleton Key: Signed Edition (Hardback)', 'author': 'Erin Kelly', 'price': '£14.99', 'pages': 512, 'product_img_link': 'https://cdn.waterstones.com/override/v1/large/9781/3997/9781399716062.jpg'}, {'isbn': '9781529365702', 'book_title': 'Billy Summers (Paperback)', 'author': 'Stephen King', 'price': '£8.99', 'pages': 448, 'product_img_link': 'https://cdn.waterstones.com/bookjackets/large/9781/5293/9781529365702.jpg'}, {'isbn': '9781529076981', 'book_title': 'Never (Paperback)', 'author': 'Ken Follett', 'price': '£7.99', 'pages': 832, 'product_img_link': 'https://cdn.waterstones.com/bookjackets/large/9781/5290/9781529076981.jpg'}, {'isbn': '9781405945455', 'book_title': 'Triflers Need Not Apply (Paperback)', 'author': 'Camilla Bruce', 'price': '£8.49', 'pages': 448, 'product_img_link': 'https://cdn.waterstones.com/bookjackets/large/9781/4059/9781405945455.jpg'}, {'isbn': '9780708899472', 'book_title': 'Harlem Shuffle (Paperback)', 'author': 'Colson Whitehead', 'price': '£6.99', 'pages': 336, 'product_img_link': 'https://cdn.waterstones.com/bookjackets/large/9780/7088/9780708899472.jpg'}, {'isbn': '9781529124323', 'book_title': 'The Twist of a Knife (Hardback)', 'author': 'Anthony Horowitz', 'price': '£16.99', 'pages': 384, 'product_img_link': 'https://cdn.waterstones.com/bookjackets/large/9781/5291/9781529124323.jpg'}, {'isbn': '9780008547998', 'book_title': 'Magpie: Exclusive Edition (Paperback)', 'author': 'Elizabeth Day', 'price': '£7.49', 'pages': 336, 'product_img_link': 'https://cdn.waterstones.com/override/v1/large/9780/0085/9780008547998.jpg'}, {'isbn': '9781529342413', 'book_title': \"The Judge's List (Paperback)\", 'author': 'John Grisham', 'price': '£7.49', 'pages': 384, 'product_img_link': 'https://cdn.waterstones.com/bookjackets/large/9781/5293/9781529342413.jpg'}, {'isbn': '9781529365702', 'book_title': 'Billy Summers (Paperback)', 'author': 'Stephen King', 'price': '£8.99', 'pages': 448, 'product_img_link': 'https://cdn.waterstones.com/bookjackets/large/9781/5293/9781529365702.jpg'}, {'isbn': '9781529428865', 'book_title': 'Bleeding Heart Yard: Signed Edition (Hardback)', 'author': 'Elly Griffiths', 'price': '£17.99', 'pages': 368, 'product_img_link': 'https://cdn.waterstones.com/override/v1/large/9781/5294/9781529428865.jpg'}, {'isbn': '9781405297752', 'book_title': \"Good Girl, Bad Blood - A Good Girl's Guide to Murder Book 2 (Paperback)\", 'author': 'Holly Jackson', 'price': '£8.99', 'pages': 432, 'product_img_link': 'https://cdn.waterstones.com/bookjackets/large/9781/4052/9781405297752.jpg'}, {'isbn': '9780571363605', 'book_title': 'April in Spain (Paperback)', 'author': 'John Banville', 'price': '£7.49', 'pages': 368, 'product_img_link': 'https://cdn.waterstones.com/bookjackets/large/9780/5713/9780571363605.jpg'}, {'isbn': '9781474612630', 'book_title': 'Murder Before Evensong - Canon Clement Mystery (Hardback)', 'author': 'Reverend Richard Coles', 'price': '£14.99', 'pages': 368, 'product_img_link': 'https://cdn.waterstones.com/bookjackets/large/9781/4746/9781474612630.jpg'}, {'isbn': '9781529380262', 'book_title': 'Foul Lady Fortune (Hardback)', 'author': 'Chloe Gong', 'price': '£14.99', 'pages': 528, 'product_img_link': 'https://cdn.waterstones.com/bookjackets/large/9781/5293/9781529380262.jpg'}, {'isbn': '9781529009705', 'book_title': 'The Interview (Paperback)', 'author': 'C. M. Ewan', 'price': '£7.49', 'pages': 464, 'product_img_link': 'https://cdn.waterstones.com/bookjackets/large/9781/5290/9781529009705.jpg'}, {'isbn': '9780008547998', 'book_title': 'Magpie: Exclusive Edition (Paperback)', 'author': 'Elizabeth Day', 'price': '£7.49', 'pages': 336, 'product_img_link': 'https://cdn.waterstones.com/override/v1/large/9780/0085/9780008547998.jpg'}, {'isbn': '9781399716062', 'book_title': 'The Skeleton Key: Signed Edition (Hardback)', 'author': 'Erin Kelly', 'price': '£14.99', 'pages': 512, 'product_img_link': 'https://cdn.waterstones.com/override/v1/large/9781/3997/9781399716062.jpg'}, {'isbn': '9780708899472', 'book_title': 'Harlem Shuffle (Paperback)', 'author': 'Colson Whitehead', 'price': '£6.99', 'pages': 336, 'product_img_link': 'https://cdn.waterstones.com/bookjackets/large/9780/7088/9780708899472.jpg'}, {'isbn': '9781787333963', 'book_title': 'The Long Knives (Hardback)', 'author': 'Irvine Welsh', 'price': '£16.99', 'pages': 384, 'product_img_link': 'https://cdn.waterstones.com/bookjackets/large/9781/7873/9781787333963.jpg'}, {'isbn': '9781409186182', 'book_title': 'The Dark Hours (Paperback)', 'author': 'Michael Connelly', 'price': '£8.99', 'pages': 480, 'product_img_link': 'https://cdn.waterstones.com/bookjackets/large/9781/4091/9781409186182.jpg'}, {'isbn': '9781409181682', 'book_title': 'The Maidens (Paperback)', 'author': 'Alex Michaelides', 'price': '£8.99', 'pages': 368, 'product_img_link': 'https://cdn.waterstones.com/bookjackets/large/9781/4091/9781409181682.jpg'}, {'isbn': '9780008467319', 'book_title': 'Marple: Twelve New Stories (Hardback)', 'author': 'Agatha Christie', 'price': '£17.99', 'pages': 384, 'product_img_link': 'https://cdn.waterstones.com/bookjackets/large/9780/0084/9780008467319.jpg'}, {'isbn': '9781529156270', 'book_title': 'The Night She Disappeared (Paperback)', 'author': 'Lisa Jewell', 'price': '£8.99', 'pages': 496, 'product_img_link': 'https://cdn.waterstones.com/bookjackets/large/9781/5291/9781529156270.jpg'}, {'isbn': '9780007527502', 'book_title': 'Murder on the Orient Express - Poirot (Paperback)', 'author': 'Agatha Christie', 'price': '£8.99', 'pages': 288, 'product_img_link': 'https://cdn.waterstones.com/bookjackets/large/9780/0075/9780007527502.jpg'}, {'isbn': '9781529156966', 'book_title': 'A Line to Kill - Hawthorne (Paperback)', 'author': 'Anthony Horowitz', 'price': '£8.99', 'pages': 384, 'product_img_link': 'https://cdn.waterstones.com/bookjackets/large/9781/5291/9781529156966.jpg'}, {'isbn': '9780008297152', 'book_title': 'The Hunting Party (Paperback)', 'author': 'Lucy Foley', 'price': '£8.99', 'pages': 416, 'product_img_link': 'https://cdn.waterstones.com/bookjackets/large/9780/0082/9780008297152.jpg'}, {'isbn': '9780099288473', 'book_title': 'The Woman in Black (Paperback)', 'author': 'Susan Hill', 'price': '£9.99', 'pages': 208, 'product_img_link': 'https://cdn.waterstones.com/bookjackets/large/9780/0992/9780099288473.jpg'}, {'isbn': '9780008123208', 'book_title': \"And Then There Were None: The World's Favourite Agatha Christie Book (Paperback)\", 'author': 'Agatha Christie', 'price': '£8.99', 'pages': 256, 'product_img_link': 'https://cdn.waterstones.com/bookjackets/large/9780/0081/9780008123208.jpg'}, {'isbn': '9780861540891', 'book_title': 'The Khan (Paperback)', 'author': 'Saima Mir', 'price': '£8.99', 'pages': 336, 'product_img_link': 'https://cdn.waterstones.com/bookjackets/large/9780/8615/9780861540891.jpg'}, {'isbn': '9781529079739', 'book_title': 'State of Terror (Paperback)', 'author': 'Hillary Rodham Clinton', 'price': '£7.49', 'pages': 512, 'product_img_link': 'https://cdn.waterstones.com/bookjackets/large/9781/5290/9781529079739.jpg'}, {'isbn': '9781529394214', 'book_title': 'Lady Joker (Paperback)', 'author': 'Kaoru Takamura', 'price': '£8.49', 'pages': 592, 'product_img_link': 'https://cdn.waterstones.com/bookjackets/large/9781/5293/9781529394214.jpg'}, {'isbn': '9780008123208', 'book_title': \"And Then There Were None: The World's Favourite Agatha Christie Book (Paperback)\", 'author': 'Agatha Christie', 'price': '£8.99', 'pages': 256, 'product_img_link': 'https://cdn.waterstones.com/bookjackets/large/9780/0081/9780008123208.jpg'}, {'isbn': '9781785656477', 'book_title': 'If We Were Villains (Paperback)', 'author': 'M. L. Rio', 'price': '£8.99', 'pages': 400, 'product_img_link': 'https://cdn.waterstones.com/bookjackets/large/9781/7856/9781785656477.jpg'}, {'isbn': '9781399606400', 'book_title': 'The Maidens: Exclusive Edition (Paperback)', 'author': 'Alex Michaelides', 'price': '£8.99', 'pages': 368, 'product_img_link': 'https://cdn.waterstones.com/override/v1/large/9781/3996/9781399606400.jpg'}, {'isbn': '9781526657718', 'book_title': 'Lightseekers: Exclusive Edition (Paperback)', 'author': 'Femi Kayode', 'price': '£7.49', 'pages': 432, 'product_img_link': 'https://cdn.waterstones.com/override/v2/large/9781/5266/9781526657718.jpg'}, {'isbn': '9781529156270', 'book_title': 'The Night She Disappeared (Paperback)', 'author': 'Lisa Jewell', 'price': '£8.99', 'pages': 496, 'product_img_link': 'https://cdn.waterstones.com/bookjackets/large/9781/5291/9781529156270.jpg'}, {'isbn': '9780241610596', 'book_title': 'The Butcher and the Wren (Hardback)', 'author': 'Alaina Urquhart', 'price': '£15.99', 'pages': 256, 'product_img_link': 'https://cdn.waterstones.com/bookjackets/large/9780/2416/9780241610596.jpg'}, {'isbn': '9781405298605', 'book_title': \"As Good As Dead - A Good Girl's Guide to Murder Book 3 (Paperback)\", 'author': 'Holly Jackson', 'price': '£8.99', 'pages': 576, 'product_img_link': 'https://cdn.waterstones.com/bookjackets/large/9781/4052/9781405298605.jpg'}, {'isbn': '9780552177313', 'book_title': 'The Sanatorium - Detective Elin Warner Series (Paperback)', 'author': 'Sarah Pearse', 'price': '£8.99', 'pages': 448, 'product_img_link': 'https://cdn.waterstones.com/bookjackets/large/9780/5521/9780552177313.jpg'}, {'isbn': '9781509889709', 'book_title': \"The Heron's Cry - Two Rivers (Paperback)\", 'author': 'Ann Cleeves', 'price': '£8.99', 'pages': 400, 'product_img_link': 'https://cdn.waterstones.com/bookjackets/large/9781/5098/9781509889709.jpg'}, {'isbn': '9781529073348', 'book_title': 'Riccardino - Inspector Montalbano mysteries (Paperback)', 'author': 'Andrea Camilleri', 'price': '£7.49', 'pages': 304, 'product_img_link': 'https://cdn.waterstones.com/bookjackets/large/9781/5290/9781529073348.jpg'}, {'isbn': '9780099288473', 'book_title': 'The Woman in Black (Paperback)', 'author': 'Susan Hill', 'price': '£9.99', 'pages': 208, 'product_img_link': 'https://cdn.waterstones.com/bookjackets/large/9780/0992/9780099288473.jpg'}, {'isbn': '9781838774318', 'book_title': 'The Windsor Knot (Paperback)', 'author': 'SJ Bennett', 'price': '£8.99', 'pages': 288, 'product_img_link': 'https://cdn.waterstones.com/bookjackets/large/9781/8387/9781838774318.jpg'}, {'isbn': '9781474613903', 'book_title': 'Small Pleasures (Paperback)', 'author': 'Clare Chambers', 'price': '£8.99', 'pages': 368, 'product_img_link': 'https://cdn.waterstones.com/bookjackets/large/9781/4746/9781474613903.jpg'}, {'isbn': '9781529009705', 'book_title': 'The Interview (Paperback)', 'author': 'C. M. Ewan', 'price': '£7.49', 'pages': 464, 'product_img_link': 'https://cdn.waterstones.com/bookjackets/large/9781/5290/9781529009705.jpg'}, {'isbn': '9780007527502', 'book_title': 'Murder on the Orient Express - Poirot (Paperback)', 'author': 'Agatha Christie', 'price': '£8.99', 'pages': 288, 'product_img_link': 'https://cdn.waterstones.com/bookjackets/large/9780/0075/9780007527502.jpg'}, {'isbn': '9780751577105', 'book_title': 'The Last Party - DC Morgan (Hardback)', 'author': 'Clare Mackintosh', 'price': '£14.99', 'pages': 448, 'product_img_link': 'https://cdn.waterstones.com/bookjackets/large/9780/7515/9780751577105.jpg'}, {'isbn': '9781787461482', 'book_title': 'The Family Upstairs - The Family Upstairs (Paperback)', 'author': 'Lisa Jewell', 'price': '£8.99', 'pages': 480, 'product_img_link': 'https://cdn.waterstones.com/bookjackets/large/9781/7874/9781787461482.jpg'}, {'isbn': '9781398507289', 'book_title': 'Falling (Paperback)', 'author': 'T. J. Newman', 'price': '£6.99', 'pages': 368, 'product_img_link': 'https://cdn.waterstones.com/bookjackets/large/9781/3985/9781398507289.jpg'}, {'isbn': '9780008297152', 'book_title': 'The Hunting Party (Paperback)', 'author': 'Lucy Foley', 'price': '£8.99', 'pages': 416, 'product_img_link': 'https://cdn.waterstones.com/bookjackets/large/9780/0082/9780008297152.jpg'}, {'isbn': '9781912310920', 'book_title': 'The Creek: A Summer Suspense Mystery - The Summer Suspense Mysteries (Paperback)', 'author': 'LJ Ross', 'price': '£8.99', 'pages': 384, 'product_img_link': 'https://cdn.waterstones.com/bookjackets/large/9781/9123/9781912310920.jpg'}, {'isbn': '9781405944977', 'book_title': 'Eight Detectives (Paperback)', 'author': 'Alex Pavesi', 'price': '£9.99', 'pages': 352, 'product_img_link': 'https://cdn.waterstones.com/override/v1/large/9781/4059/9781405944977.jpg'}, {'isbn': '9781472286147', 'book_title': 'The Late Train to Gipsy Hill (Paperback)', 'author': 'Alan Johnson', 'price': '£8.99', 'pages': 352, 'product_img_link': 'https://cdn.waterstones.com/bookjackets/large/9781/4722/9781472286147.jpg'}, {'isbn': '9780749028329', 'book_title': 'A Sunlit Weapon: The thrilling wartime mystery - Maisie Dobbs (Paperback)', 'author': 'Jacqueline Winspear', 'price': '£8.99', 'pages': 416, 'product_img_link': 'https://cdn.waterstones.com/bookjackets/large/9780/7490/9780749028329.jpg'}, {'isbn': '9780008470395', 'book_title': 'The Blood Tide - DS Max Craigie Scottish Crime Thrillers Book 2 (Paperback)', 'author': 'Neil Lancaster', 'price': '£8.99', 'pages': 448, 'product_img_link': 'https://cdn.waterstones.com/bookjackets/large/9780/0084/9780008470395.jpg'}, {'isbn': '9780241347782', 'book_title': 'The Adventures of Sherlock Holmes - Penguin Clothbound Classics (Hardback)', 'author': 'Arthur Conan Doyle', 'price': '£16.99', 'pages': 576, 'product_img_link': 'https://cdn.waterstones.com/bookjackets/large/9780/2413/9780241347782.jpg'}, {'isbn': '9781398507289', 'book_title': 'Falling (Paperback)', 'author': 'T. J. Newman', 'price': '£6.99', 'pages': 368, 'product_img_link': 'https://cdn.waterstones.com/bookjackets/large/9781/3985/9781398507289.jpg'}, {'isbn': '9781786899897', 'book_title': 'A Corruption of Blood - A Raven and Fisher Mystery (Paperback)', 'author': 'Ambrose Parry', 'price': '£7.49', 'pages': 416, 'product_img_link': 'https://cdn.waterstones.com/bookjackets/large/9781/7868/9781786899897.jpg'}, {'isbn': '9781405944977', 'book_title': 'Eight Detectives (Paperback)', 'author': 'Alex Pavesi', 'price': '£9.99', 'pages': 352, 'product_img_link': 'https://cdn.waterstones.com/override/v1/large/9781/4059/9781405944977.jpg'}, {'isbn': '9780712354851', 'book_title': 'The Edinburgh Mystery: And Other Tales of Scottish Crime - British Library Crime Classics 102 (Paperback)', 'author': 'Martin Edwards', 'price': '£10.99', 'pages': 272, 'product_img_link': 'https://cdn.waterstones.com/bookjackets/large/9780/7123/9780712354851.jpg'}, {'isbn': '9781838774318', 'book_title': 'The Windsor Knot (Paperback)', 'author': 'SJ Bennett', 'price': '£8.99', 'pages': 288, 'product_img_link': 'https://cdn.waterstones.com/bookjackets/large/9781/8387/9781838774318.jpg'}, {'isbn': '9781804180396', 'book_title': 'A Three Dog Problem: The Queen investigates a murder at Buckingham Palace: Exclusive Edition (Paperback)', 'author': 'SJ Bennett', 'price': '£7.49', 'pages': 288, 'product_img_link': 'https://cdn.waterstones.com/override/v2/large/9781/8041/9781804180396.jpg'}, {'isbn': '9781784162344', 'book_title': 'The Five: The Untold Lives of The Women Killed by Jack The Ripper (Paperback)', 'author': 'Hallie Rubenhold', 'price': '£9.99', 'pages': 432, 'product_img_link': 'https://cdn.waterstones.com/bookjackets/large/9781/7841/9781784162344.jpg'}, {'isbn': '9780008462413', 'book_title': 'One of the Girls (Paperback)', 'author': 'Lucy Clarke', 'price': '£7.49', 'pages': 448, 'product_img_link': 'https://cdn.waterstones.com/bookjackets/large/9780/0084/9780008462413.jpg'}, {'isbn': '9781529157215', 'book_title': \"The President's Daughter - Bill Clinton & James Patterson stand-alone thrillers (Paperback)\", 'author': 'President Bill Clinton', 'price': '£8.99', 'pages': 608, 'product_img_link': 'https://cdn.waterstones.com/bookjackets/large/9781/5291/9781529157215.jpg'}, {'isbn': '9780008471859', 'book_title': \"Who's Lying Now? (Paperback)\", 'author': 'Susan Lewis', 'price': '£8.99', 'pages': 496, 'product_img_link': 'https://cdn.waterstones.com/bookjackets/large/9780/0084/9780008471859.jpg'}, {'isbn': '9781529073348', 'book_title': 'Riccardino - Inspector Montalbano mysteries (Paperback)', 'author': 'Andrea Camilleri', 'price': '£7.49', 'pages': 304, 'product_img_link': 'https://cdn.waterstones.com/bookjackets/large/9781/5290/9781529073348.jpg'}, {'isbn': '9781526615718', 'book_title': 'We Are Bellingcat: An Intelligence Agency for the People (Paperback)', 'author': 'Eliot Higgins', 'price': '£8.49', 'pages': 288, 'product_img_link': 'https://cdn.waterstones.com/bookjackets/large/9781/5266/9781526615718.jpg'}, {'isbn': '9780099282877', 'book_title': 'The Talented Mr Ripley - A Ripley Novel (Paperback)', 'author': 'Patricia Highsmith', 'price': '£8.99', 'pages': 272, 'product_img_link': 'https://cdn.waterstones.com/bookjackets/large/9780/0992/9780099282877.jpg'}, {'isbn': '9781399801911', 'book_title': 'Meantime: Signed Edition (Hardback)', 'author': 'Frankie Boyle', 'price': '£14.99', 'pages': 336, 'product_img_link': 'https://cdn.waterstones.com/override/v2/large/9781/3998/9781399801911.jpg'}, {'isbn': '9780552177047', 'book_title': 'Not a Happy Family (Paperback)', 'author': 'Shari Lapena', 'price': '£8.99', 'pages': 448, 'product_img_link': 'https://cdn.waterstones.com/bookjackets/large/9780/5521/9780552177047.jpg'}, {'isbn': '9781471183515', 'book_title': 'The Heights (Paperback)', 'author': 'Louise Candlish', 'price': '£8.99', 'pages': 464, 'product_img_link': 'https://cdn.waterstones.com/bookjackets/large/9781/4711/9781471183515.jpg'}, {'isbn': '9781529402681', 'book_title': 'Mexican Gothic (Paperback)', 'author': 'Silvia Moreno-Garcia', 'price': '£9.99', 'pages': 320, 'product_img_link': 'https://cdn.waterstones.com/bookjackets/large/9781/5294/9781529402681.jpg'}, {'isbn': '9780008446086', 'book_title': 'The Dinner Guest (Paperback)', 'author': 'B P Walter', 'price': '£8.99', 'pages': 416, 'product_img_link': 'https://cdn.waterstones.com/bookjackets/large/9780/0084/9780008446086.jpg'}, {'isbn': '9781781255452', 'book_title': 'The Essex Serpent (Paperback)', 'author': 'Sarah Perry', 'price': '£8.99', 'pages': 448, 'product_img_link': 'https://cdn.waterstones.com/override/v1/large/9781/7812/9781781255452.jpg'}, {'isbn': '9780552779777', 'book_title': 'The Girl on the Train (Paperback)', 'author': 'Paula Hawkins', 'price': '£8.99', 'pages': 416, 'product_img_link': 'https://cdn.waterstones.com/bookjackets/large/9780/5527/9780552779777.jpg'}, {'isbn': '9780008342289', 'book_title': 'My Dark Vanessa (Paperback)', 'author': 'Kate Elizabeth Russell', 'price': '£8.99', 'pages': 384, 'product_img_link': 'https://cdn.waterstones.com/bookjackets/large/9780/0083/9780008342289.jpg'}, {'isbn': '9781529159813', 'book_title': 'The Ninth Month (Paperback)', 'author': 'James Patterson', 'price': '£8.99', 'pages': 480, 'product_img_link': 'https://cdn.waterstones.com/bookjackets/large/9781/5291/9781529159813.jpg'}, {'isbn': '9780349144375', 'book_title': 'How to Kidnap the Rich (Paperback)', 'author': 'Rahul Raina', 'price': '£8.99', 'pages': 304, 'product_img_link': 'https://cdn.waterstones.com/bookjackets/large/9780/3491/9780349144375.jpg'}]\n"
     ]
    }
   ],
   "source": [
    "from selenium import webdriver\n",
    "from selenium.webdriver.common.by import By\n",
    "import time\n",
    "\n",
    "link_list = []\n",
    "product_list = []\n",
    "\n",
    "driver = webdriver.Chrome(\"C:\\\\Users\\\\awoye\\\\Downloads\\\\chromedriver_win32\\\\chromedriver.exe\")\n",
    "driver.get(\"https://www.waterstones.com/category/crime-thrillers-mystery/page/1\")\n",
    "time.sleep(8)\n",
    "button = driver.find_element(by = By.XPATH, value = '//*[@id=\"onetrust-accept-btn-handler\"]')\n",
    "button.click()\n",
    "\n",
    "driver.execute_script(\"window.scrollTo(0, document.body.scrollHeight);\")\n",
    "time.sleep(5)\n",
    "driver.execute_script(\"window.scrollTo(0, document.body.scrollHeight);\")\n",
    "time.sleep(5)\n",
    "driver.execute_script(\"window.scrollTo(0, document.body.scrollHeight);\")\n",
    "driver.find_element(by = By.XPATH, value = '/html/body/div[1]/div[1]/div[3]/div[3]/button').click()\n",
    "time.sleep(3)\n",
    "driver.find_element(by = By.XPATH, value = '/html/body/div[1]/div[1]/div[3]/div[3]/button').click()\n",
    "time.sleep(3)\n",
    "\n",
    "\n",
    "container = driver.find_element(by = By.XPATH, value = '/html/body/div[1]/div[1]/div[3]/div[2]')\n",
    "link_container = container.find_elements(by = By.CLASS_NAME, value = 'title-wrap')\n",
    "for book in link_container:\n",
    "    book_link = book.find_element(by = By.TAG_NAME, value = 'a').get_attribute('href')\n",
    "    link_list.append(book_link)\n",
    "print(len(link_list))\n",
    "for product in link_list:\n",
    "    driver.get(product)\n",
    "    try:\n",
    "        pages = int(driver.find_element(by = By.XPATH, value = '/html/body/div[1]/div[1]/div[2]/section[1]/div[2]/div[2]/div/div/div/div[2]/span[2]/span').text)\n",
    "    except Exception:\n",
    "        pages = 'NULL'\n",
    "    try:\n",
    "        price = driver.find_element(by = By.XPATH, value = '/html/body/div[1]/div[1]/div[2]/section[1]/div[2]/div[2]/div/div/div/div[1]/div/b[2]').text\n",
    "    except Exception:\n",
    "        try: \n",
    "            price = driver.find_element(by = By.XPATH, value = '/html/body/div[1]/div[1]/div[2]/section[1]/div[2]/div[2]/div/div/div/div[1]/div/b').text\n",
    "        except Exception:\n",
    "                    price = 'NULL'\n",
    "    finally:\n",
    "        product_details ={\n",
    "        'isbn': driver.find_element(by = By.XPATH, value = '/html/body/div[1]/div[1]/div[2]/section[2]/div[2]/div[1]/div[1]/p/i[2]/span').text,\n",
    "        'book_title':driver.find_element(by = By.CLASS_NAME, value = 'book-title').text,\n",
    "        'author':driver.find_element(by = By.XPATH, value = '/html/body/div[1]/div[1]/div[2]/section[1]/div[2]/div[1]/span/a/b/span').text,\n",
    "        'price': price,\n",
    "        'pages': pages,\n",
    "        'product_img_link':driver.find_element(by = By.XPATH, value = '//*[@id=\"scope_book_image\"]').get_attribute('src')\n",
    "        }\n",
    "        product_list.append(product_details)\n",
    "print(product_list)"
   ]
  },
  {
   "cell_type": "code",
   "execution_count": 65,
   "metadata": {},
   "outputs": [
    {
     "name": "stderr",
     "output_type": "stream",
     "text": [
      "C:\\Users\\awoye\\AppData\\Local\\Temp\\ipykernel_18024\\56591966.py:8: DeprecationWarning: executable_path has been deprecated, please pass in a Service object\n",
      "  driver = webdriver.Chrome(\"C:\\\\Users\\\\awoye\\\\Downloads\\\\chromedriver_win32\\\\chromedriver.exe\")\n"
     ]
    },
    {
     "name": "stdout",
     "output_type": "stream",
     "text": [
      "120\n"
     ]
    }
   ],
   "source": [
    "from selenium import webdriver\n",
    "from selenium.webdriver.common.by import By\n",
    "import time\n",
    "\n",
    "link_list = []\n",
    "product_list = []\n",
    "\n",
    "driver = webdriver.Chrome(\"C:\\\\Users\\\\awoye\\\\Downloads\\\\chromedriver_win32\\\\chromedriver.exe\")\n",
    "driver.get(\"https://www.waterstones.com/category/crime-thrillers-mystery/page/1\")\n",
    "time.sleep(8)\n",
    "button = driver.find_element(by = By.XPATH, value = '//*[@id=\"onetrust-accept-btn-handler\"]')\n",
    "button.click()\n",
    "driver.execute_script(\"window.scrollTo(0, document.body.scrollHeight);\")\n",
    "time.sleep(5)\n",
    "driver.execute_script(\"window.scrollTo(0, document.body.scrollHeight);\")\n",
    "time.sleep(5)\n",
    "driver.find_element(by = By.XPATH, value = '/html/body/div[1]/div[1]/div[3]/div[3]/button').click()\n",
    "time.sleep(3)\n",
    "driver.find_element(by = By.XPATH, value = '/html/body/div[1]/div[1]/div[3]/div[3]/button').click()\n",
    "time.sleep(3)\n",
    "container = driver.find_element(by = By.XPATH, value = '/html/body/div[1]/div[1]/div[3]/div[2]')\n",
    "link_container = container.find_elements(by = By.CLASS_NAME, value = 'title-wrap')\n",
    "for book in link_container:\n",
    "    book_link = book.find_element(by = By.TAG_NAME, value = 'a').get_attribute('href')\n",
    "    link_list.append(book_link)\n",
    "print(len(link_list))"
   ]
  },
  {
   "cell_type": "code",
   "execution_count": 9,
   "metadata": {},
   "outputs": [
    {
     "ename": "NameError",
     "evalue": "name 'html' is not defined",
     "output_type": "error",
     "traceback": [
      "\u001b[1;31m---------------------------------------------------------------------------\u001b[0m",
      "\u001b[1;31mNameError\u001b[0m                                 Traceback (most recent call last)",
      "\u001b[1;32mc:\\Users\\awoye\\OneDrive\\Documents\\GitHub\\data-collection-pipeline782\\try_except.ipynb Cell 3\u001b[0m in \u001b[0;36m<cell line: 1>\u001b[1;34m()\u001b[0m\n\u001b[1;32m----> <a href='vscode-notebook-cell:/c%3A/Users/awoye/OneDrive/Documents/GitHub/data-collection-pipeline782/try_except.ipynb#W2sZmlsZQ%3D%3D?line=0'>1</a>\u001b[0m html\u001b[39m/\u001b[39mbody\u001b[39m/\u001b[39mdiv[\u001b[39m1\u001b[39m]\u001b[39m/\u001b[39mdiv[\u001b[39m1\u001b[39m]\u001b[39m/\u001b[39mdiv[\u001b[39m2\u001b[39m]\u001b[39m/\u001b[39msection[\u001b[39m1\u001b[39m]\u001b[39m/\u001b[39mdiv[\u001b[39m2\u001b[39m]\u001b[39m/\u001b[39mdiv[\u001b[39m2\u001b[39m]\u001b[39m/\u001b[39mdiv\u001b[39m/\u001b[39mdiv\u001b[39m/\u001b[39mdiv\u001b[39m/\u001b[39mdiv[\u001b[39m1\u001b[39m]\u001b[39m/\u001b[39mdiv\u001b[39m/\u001b[39mb()\n",
      "\u001b[1;31mNameError\u001b[0m: name 'html' is not defined"
     ]
    }
   ],
   "source": [
    "\n",
    "/html/body/div[1]/div[1]/div[2]/section[1]/div[2]/div[2]/div/div/div/div[1]/div/b"
   ]
  },
  {
   "cell_type": "code",
   "execution_count": 14,
   "metadata": {},
   "outputs": [
    {
     "ename": "NameError",
     "evalue": "name 'html' is not defined",
     "output_type": "error",
     "traceback": [
      "\u001b[1;31m---------------------------------------------------------------------------\u001b[0m",
      "\u001b[1;31mNameError\u001b[0m                                 Traceback (most recent call last)",
      "\u001b[1;32mc:\\Users\\awoye\\OneDrive\\Documents\\GitHub\\data-collection-pipeline782\\try_except.ipynb Cell 4\u001b[0m in \u001b[0;36m<cell line: 1>\u001b[1;34m()\u001b[0m\n\u001b[1;32m----> <a href='vscode-notebook-cell:/c%3A/Users/awoye/OneDrive/Documents/GitHub/data-collection-pipeline782/try_except.ipynb#W3sZmlsZQ%3D%3D?line=0'>1</a>\u001b[0m html\u001b[39m/\u001b[39mbody\u001b[39m/\u001b[39mdiv[\u001b[39m1\u001b[39m]\u001b[39m/\u001b[39mdiv[\u001b[39m1\u001b[39m]\u001b[39m/\u001b[39mdiv[\u001b[39m2\u001b[39m]\u001b[39m/\u001b[39msection[\u001b[39m1\u001b[39m]\u001b[39m/\u001b[39mdiv[\u001b[39m2\u001b[39m]\u001b[39m/\u001b[39mdiv[\u001b[39m2\u001b[39m]\u001b[39m/\u001b[39mdiv\u001b[39m/\u001b[39mdiv\u001b[39m/\u001b[39mdiv\u001b[39m/\u001b[39mdiv[\u001b[39m1\u001b[39m]\u001b[39m/\u001b[39mdiv\u001b[39m/\u001b[39mb()\n\u001b[0;32m      <a href='vscode-notebook-cell:/c%3A/Users/awoye/OneDrive/Documents/GitHub/data-collection-pipeline782/try_except.ipynb#W3sZmlsZQ%3D%3D?line=1'>2</a>\u001b[0m html\u001b[39m/\u001b[39mbody\u001b[39m/\u001b[39mdiv[\u001b[39m1\u001b[39m]\u001b[39m/\u001b[39mdiv[\u001b[39m1\u001b[39m]\u001b[39m/\u001b[39mdiv[\u001b[39m2\u001b[39m]\u001b[39m/\u001b[39msection[\u001b[39m1\u001b[39m]\u001b[39m/\u001b[39mdiv[\u001b[39m2\u001b[39m]\u001b[39m/\u001b[39mdiv[\u001b[39m2\u001b[39m]\u001b[39m/\u001b[39mdiv\u001b[39m/\u001b[39mdiv\u001b[39m/\u001b[39mdiv\u001b[39m/\u001b[39mdiv[\u001b[39m1\u001b[39m]\u001b[39m/\u001b[39mdiv\u001b[39m/\u001b[39mb[\u001b[39m2\u001b[39m]()\n",
      "\u001b[1;31mNameError\u001b[0m: name 'html' is not defined"
     ]
    }
   ],
   "source": [
    "/html/body/div[1]/div[1]/div[2]/section[1]/div[2]/div[2]/div/div/div/div[1]/div/b\n",
    "/html/body/div[1]/div[1]/div[2]/section[1]/div[2]/div[2]/div/div/div/div[1]/div/b[2]\n",
    "/html/body/div[1]/div[1]/div[2]/section[1]/div[2]/div[2]/div/div/div/div[1]/div/b\n"
   ]
  },
  {
   "cell_type": "code",
   "execution_count": null,
   "metadata": {},
   "outputs": [],
   "source": [
    "            product_details ={\n",
    "            'isbn': driver.find_element(by = By.XPATH, value = '/html/body/div[1]/div[1]/div[2]/section[2]/div[2]/div[1]/div[1]/p/i[2]/span').text,\n",
    "            'book_title':driver.find_element(by = By.CLASS_NAME, value = 'book-title').text,\n",
    "            'author':driver.find_element(by = By.XPATH, value = '/html/body/div[1]/div[1]/div[2]/section[1]/div[2]/div[1]/span/a/b/span').text,\n",
    "            'price': 'NULL',\n",
    "            'pages': int(driver.find_element(by = By.XPATH, value = '/html/body/div[1]/div[1]/div[2]/section[1]/div[2]/div[2]/div/div/div/div[2]/span[2]/span').text),\n",
    "            'product_img_link':driver.find_element(by = By.XPATH, value = '//*[@id=\"scope_book_image\"]').get_attribute('src')\n",
    "            }"
   ]
  }
 ],
 "metadata": {
  "kernelspec": {
   "display_name": "Python 3.9.13 64-bit",
   "language": "python",
   "name": "python3"
  },
  "language_info": {
   "codemirror_mode": {
    "name": "ipython",
    "version": 3
   },
   "file_extension": ".py",
   "mimetype": "text/x-python",
   "name": "python",
   "nbconvert_exporter": "python",
   "pygments_lexer": "ipython3",
   "version": "3.9.13"
  },
  "orig_nbformat": 4,
  "vscode": {
   "interpreter": {
    "hash": "4496ee84ec3f836f2c244778f5eace6014f8a90bc256bc6e4ad394a54dce8339"
   }
  }
 },
 "nbformat": 4,
 "nbformat_minor": 2
}
